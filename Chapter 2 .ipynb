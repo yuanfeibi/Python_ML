{
 "cells": [
  {
   "cell_type": "markdown",
   "metadata": {},
   "source": [
    "## Understanding the Problem by Understanding the Data ##"
   ]
  },
  {
   "cell_type": "code",
   "execution_count": 2,
   "metadata": {},
   "outputs": [],
   "source": [
    "import urllib.request\n",
    "import sys\n",
    "import numpy as np\n",
    "import pylab\n",
    "import scipy.stats as stats"
   ]
  },
  {
   "cell_type": "markdown",
   "metadata": {},
   "source": [
    "### Data source ###"
   ]
  },
  {
   "cell_type": "code",
   "execution_count": 5,
   "metadata": {},
   "outputs": [],
   "source": [
    "target_url = (\"https://archive.ics.uci.edu/ml/machine-learning-databases/undocumented/connectionist-bench/sonar/sonar.all-data\")"
   ]
  },
  {
   "cell_type": "code",
   "execution_count": 16,
   "metadata": {},
   "outputs": [],
   "source": [
    "data = urllib.request.urlopen(target_url)"
   ]
  },
  {
   "cell_type": "code",
   "execution_count": 17,
   "metadata": {},
   "outputs": [],
   "source": [
    "xList = []\n",
    "labels = []"
   ]
  },
  {
   "cell_type": "markdown",
   "metadata": {},
   "source": [
    "### Determine size and shape ###"
   ]
  },
  {
   "cell_type": "code",
   "execution_count": 18,
   "metadata": {},
   "outputs": [],
   "source": [
    "for line in data:\n",
    "    row = line.decode('utf8').strip().split(\",\")\n",
    "    xList.append(row)"
   ]
  },
  {
   "cell_type": "code",
   "execution_count": 19,
   "metadata": {},
   "outputs": [
    {
     "name": "stdout",
     "output_type": "stream",
     "text": [
      "Number of Rows of Data = 208\n",
      "Number of Columns of Data = 61\n"
     ]
    }
   ],
   "source": [
    "sys.stdout.write(\"Number of Rows of Data = \" + str(len(xList)) + \"\\n\")\n",
    "sys.stdout.write(\"Number of Columns of Data = \" + str(len(xList[0])) + \"\\n\")"
   ]
  },
  {
   "cell_type": "markdown",
   "metadata": {},
   "source": [
    "### Determine data type: numerical, categorical or empty ###"
   ]
  },
  {
   "cell_type": "code",
   "execution_count": 20,
   "metadata": {},
   "outputs": [],
   "source": [
    "nrow = len(xList)\n",
    "ncol = len(xList[0])"
   ]
  },
  {
   "cell_type": "code",
   "execution_count": 21,
   "metadata": {},
   "outputs": [],
   "source": [
    "type = [0] * 3\n",
    "colCounts = []"
   ]
  },
  {
   "cell_type": "code",
   "execution_count": 22,
   "metadata": {},
   "outputs": [],
   "source": [
    "for col in range(ncol):\n",
    "    for row in xList:\n",
    "        try:\n",
    "            a = float(row[col])\n",
    "            if isinstance(a, float):\n",
    "                type[0] += 1\n",
    "        except ValueError:\n",
    "            if len(row[col]) > 0:\n",
    "                type[1] += 1\n",
    "            else:\n",
    "                type[2] += 1\n",
    "    colCounts.append(type)\n",
    "    type = [0] * 3"
   ]
  },
  {
   "cell_type": "code",
   "execution_count": 23,
   "metadata": {},
   "outputs": [
    {
     "name": "stdout",
     "output_type": "stream",
     "text": [
      "Col#\t\tNumber\t\tString\t\tOther\n",
      "0\t\t208\t\t0\t\t0\n",
      "1\t\t208\t\t0\t\t0\n",
      "2\t\t208\t\t0\t\t0\n",
      "3\t\t208\t\t0\t\t0\n",
      "4\t\t208\t\t0\t\t0\n",
      "5\t\t208\t\t0\t\t0\n",
      "6\t\t208\t\t0\t\t0\n",
      "7\t\t208\t\t0\t\t0\n",
      "8\t\t208\t\t0\t\t0\n",
      "9\t\t208\t\t0\t\t0\n",
      "10\t\t208\t\t0\t\t0\n",
      "11\t\t208\t\t0\t\t0\n",
      "12\t\t208\t\t0\t\t0\n",
      "13\t\t208\t\t0\t\t0\n",
      "14\t\t208\t\t0\t\t0\n",
      "15\t\t208\t\t0\t\t0\n",
      "16\t\t208\t\t0\t\t0\n",
      "17\t\t208\t\t0\t\t0\n",
      "18\t\t208\t\t0\t\t0\n",
      "19\t\t208\t\t0\t\t0\n",
      "20\t\t208\t\t0\t\t0\n",
      "21\t\t208\t\t0\t\t0\n",
      "22\t\t208\t\t0\t\t0\n",
      "23\t\t208\t\t0\t\t0\n",
      "24\t\t208\t\t0\t\t0\n",
      "25\t\t208\t\t0\t\t0\n",
      "26\t\t208\t\t0\t\t0\n",
      "27\t\t208\t\t0\t\t0\n",
      "28\t\t208\t\t0\t\t0\n",
      "29\t\t208\t\t0\t\t0\n",
      "30\t\t208\t\t0\t\t0\n",
      "31\t\t208\t\t0\t\t0\n",
      "32\t\t208\t\t0\t\t0\n",
      "33\t\t208\t\t0\t\t0\n",
      "34\t\t208\t\t0\t\t0\n",
      "35\t\t208\t\t0\t\t0\n",
      "36\t\t208\t\t0\t\t0\n",
      "37\t\t208\t\t0\t\t0\n",
      "38\t\t208\t\t0\t\t0\n",
      "39\t\t208\t\t0\t\t0\n",
      "40\t\t208\t\t0\t\t0\n",
      "41\t\t208\t\t0\t\t0\n",
      "42\t\t208\t\t0\t\t0\n",
      "43\t\t208\t\t0\t\t0\n",
      "44\t\t208\t\t0\t\t0\n",
      "45\t\t208\t\t0\t\t0\n",
      "46\t\t208\t\t0\t\t0\n",
      "47\t\t208\t\t0\t\t0\n",
      "48\t\t208\t\t0\t\t0\n",
      "49\t\t208\t\t0\t\t0\n",
      "50\t\t208\t\t0\t\t0\n",
      "51\t\t208\t\t0\t\t0\n",
      "52\t\t208\t\t0\t\t0\n",
      "53\t\t208\t\t0\t\t0\n",
      "54\t\t208\t\t0\t\t0\n",
      "55\t\t208\t\t0\t\t0\n",
      "56\t\t208\t\t0\t\t0\n",
      "57\t\t208\t\t0\t\t0\n",
      "58\t\t208\t\t0\t\t0\n",
      "59\t\t208\t\t0\t\t0\n",
      "60\t\t0\t\t208\t\t0\n"
     ]
    }
   ],
   "source": [
    "sys.stdout.write(\"Col#\" + '\\t\\t' + \"Number\" + '\\t\\t' + \"String\" + '\\t\\t' + \"Other\\n\")\n",
    "iCol = 0\n",
    "for types in colCounts:\n",
    "    sys.stdout.write(str(iCol) + '\\t\\t' + str(types[0]) + '\\t\\t' + str(types[1]) + '\\t\\t' + str(types[2]) + '\\n')\n",
    "    iCol += 1"
   ]
  },
  {
   "cell_type": "markdown",
   "metadata": {},
   "source": [
    "### Statistical summaries of data set ###"
   ]
  },
  {
   "cell_type": "markdown",
   "metadata": {},
   "source": [
    "#### generate summary statistics for column 3 ####"
   ]
  },
  {
   "cell_type": "code",
   "execution_count": 24,
   "metadata": {},
   "outputs": [],
   "source": [
    "col = 3\n",
    "colData = []\n",
    "for row in xList:\n",
    "    colData.append(float(row[col]))"
   ]
  },
  {
   "cell_type": "code",
   "execution_count": 25,
   "metadata": {},
   "outputs": [],
   "source": [
    "colArray = np.array(colData)"
   ]
  },
  {
   "cell_type": "code",
   "execution_count": 26,
   "metadata": {},
   "outputs": [
    {
     "name": "stdout",
     "output_type": "stream",
     "text": [
      "Mean = \t0.053892307692307684\t\tStandard Deviation = \t0.04641598322260027\n"
     ]
    }
   ],
   "source": [
    "colMean = np.mean(colArray)\n",
    "colsd = np.std(colArray)\n",
    "sys.stdout.write(\"Mean = \" + \"\\t\" + str(colMean) + \"\\t\\t\" + \"Standard Deviation = \" + \"\\t\" + str(colsd) + \"\\n\")"
   ]
  },
  {
   "cell_type": "markdown",
   "metadata": {},
   "source": [
    "#### calculate quantile boundaries to reveal outliers ####"
   ]
  },
  {
   "cell_type": "code",
   "execution_count": 27,
   "metadata": {},
   "outputs": [],
   "source": [
    "ntiles = 4\n",
    "percentBdry = []"
   ]
  },
  {
   "cell_type": "code",
   "execution_count": 28,
   "metadata": {},
   "outputs": [
    {
     "name": "stdout",
     "output_type": "stream",
     "text": [
      "\n",
      "Boundaries for 4 Equal Percentiles \n",
      "[0.0058, 0.024375, 0.04405, 0.0645, 0.4264]\n",
      "\n"
     ]
    }
   ],
   "source": [
    "for i in range(ntiles + 1):\n",
    "    percentBdry.append(np.percentile(colArray, i*100/ntiles))\n",
    "sys.stdout.write(\"\\nBoundaries for 4 Equal Percentiles \\n\")\n",
    "print(percentBdry)\n",
    "sys.stdout.write(\"\\n\")"
   ]
  },
  {
   "cell_type": "code",
   "execution_count": 29,
   "metadata": {},
   "outputs": [],
   "source": [
    "ntiles = 10\n",
    "percentBdry = []"
   ]
  },
  {
   "cell_type": "code",
   "execution_count": 30,
   "metadata": {},
   "outputs": [
    {
     "name": "stdout",
     "output_type": "stream",
     "text": [
      "\n",
      "Boundaries for 4 Equal Percentiles \n",
      "[0.0058, 0.0141, 0.022740000000000003, 0.027869999999999995, 0.03622, 0.04405, 0.05071999999999999, 0.059959999999999986, 0.07794000000000001, 0.10836, 0.4264]\n",
      "\n"
     ]
    }
   ],
   "source": [
    "for i in range(ntiles + 1):\n",
    "    percentBdry.append(np.percentile(colArray, i*100/ntiles))\n",
    "sys.stdout.write(\"\\nBoundaries for 4 Equal Percentiles \\n\")\n",
    "print(percentBdry)\n",
    "sys.stdout.write(\"\\n\")"
   ]
  },
  {
   "cell_type": "markdown",
   "metadata": {},
   "source": [
    "#### last column contains categorical variables ####"
   ]
  },
  {
   "cell_type": "code",
   "execution_count": 31,
   "metadata": {},
   "outputs": [],
   "source": [
    "col = 60\n",
    "colData = []\n",
    "for row in xList:\n",
    "    colData.append(row[col])"
   ]
  },
  {
   "cell_type": "code",
   "execution_count": 32,
   "metadata": {},
   "outputs": [
    {
     "name": "stdout",
     "output_type": "stream",
     "text": [
      "Unique Label Values \n",
      "{'R', 'M'}\n"
     ]
    }
   ],
   "source": [
    "unique = set(colData)\n",
    "sys.stdout.write(\"Unique Label Values \\n\")\n",
    "print(unique)"
   ]
  },
  {
   "cell_type": "code",
   "execution_count": 33,
   "metadata": {},
   "outputs": [],
   "source": [
    "catDict = dict(zip(list(unique), range(len(unique))))\n",
    "catCount = [0] * 2"
   ]
  },
  {
   "cell_type": "code",
   "execution_count": 34,
   "metadata": {},
   "outputs": [
    {
     "name": "stdout",
     "output_type": "stream",
     "text": [
      "\n",
      "Counts for Each Value of Categorical Label \n",
      "['R', 'M']\n",
      "[97, 111]\n"
     ]
    }
   ],
   "source": [
    "for elt in colData:\n",
    "    catCount[catDict[elt]] += 1\n",
    "sys.stdout.write(\"\\nCounts for Each Value of Categorical Label \\n\")\n",
    "print(list(unique))\n",
    "print(catCount)"
   ]
  },
  {
   "cell_type": "markdown",
   "metadata": {},
   "source": [
    "### Visualization of Outliers ###"
   ]
  },
  {
   "cell_type": "markdown",
   "metadata": {},
   "source": [
    "#### generate statistical for column 3 ####"
   ]
  },
  {
   "cell_type": "code",
   "execution_count": 35,
   "metadata": {},
   "outputs": [],
   "source": [
    "col = 3\n",
    "colData = []\n",
    "for row in xList:\n",
    "    colData.append(float(row[col]))"
   ]
  },
  {
   "cell_type": "code",
   "execution_count": 36,
   "metadata": {},
   "outputs": [
    {
     "data": {
      "image/png": "[encoded data removed]",
      "text/plain": [
       "<Figure size 432x288 with 1 Axes>"
      ]
     },
     "metadata": {},
     "output_type": "display_data"
    }
   ],
   "source": [
    "stats.probplot(colData, dist = \"norm\", plot = pylab)\n",
    "pylab.show()"
   ]
  },
  {
   "cell_type": "markdown",
   "metadata": {},
   "source": [
    "### andas can help automate the process of data inspection and handling. Use pandas to process data. It reads data into a specialized data structure called *data frame*. ###"
   ]
  },
  {
   "cell_type": "code",
   "execution_count": 3,
   "metadata": {},
   "outputs": [],
   "source": [
    "import pandas as pd\n",
    "import matplotlib.pyplot as plot"
   ]
  },
  {
   "cell_type": "code",
   "execution_count": 6,
   "metadata": {},
   "outputs": [],
   "source": [
    "rocksVMines = pd.read_csv(target_url, header = None, prefix = \"V\")"
   ]
  },
  {
   "cell_type": "code",
   "execution_count": 7,
   "metadata": {},
   "outputs": [
    {
     "name": "stdout",
     "output_type": "stream",
     "text": [
      "       V0      V1      V2      V3      V4      V5      V6      V7      V8  \\\n",
      "0  0.0200  0.0371  0.0428  0.0207  0.0954  0.0986  0.1539  0.1601  0.3109   \n",
      "1  0.0453  0.0523  0.0843  0.0689  0.1183  0.2583  0.2156  0.3481  0.3337   \n",
      "2  0.0262  0.0582  0.1099  0.1083  0.0974  0.2280  0.2431  0.3771  0.5598   \n",
      "3  0.0100  0.0171  0.0623  0.0205  0.0205  0.0368  0.1098  0.1276  0.0598   \n",
      "4  0.0762  0.0666  0.0481  0.0394  0.0590  0.0649  0.1209  0.2467  0.3564   \n",
      "\n",
      "       V9 ...      V51     V52     V53     V54     V55     V56     V57  \\\n",
      "0  0.2111 ...   0.0027  0.0065  0.0159  0.0072  0.0167  0.0180  0.0084   \n",
      "1  0.2872 ...   0.0084  0.0089  0.0048  0.0094  0.0191  0.0140  0.0049   \n",
      "2  0.6194 ...   0.0232  0.0166  0.0095  0.0180  0.0244  0.0316  0.0164   \n",
      "3  0.1264 ...   0.0121  0.0036  0.0150  0.0085  0.0073  0.0050  0.0044   \n",
      "4  0.4459 ...   0.0031  0.0054  0.0105  0.0110  0.0015  0.0072  0.0048   \n",
      "\n",
      "      V58     V59  V60  \n",
      "0  0.0090  0.0032    R  \n",
      "1  0.0052  0.0044    R  \n",
      "2  0.0095  0.0078    R  \n",
      "3  0.0040  0.0117    R  \n",
      "4  0.0107  0.0094    R  \n",
      "\n",
      "[5 rows x 61 columns]\n",
      "         V0      V1      V2      V3      V4      V5      V6      V7      V8  \\\n",
      "203  0.0187  0.0346  0.0168  0.0177  0.0393  0.1630  0.2028  0.1694  0.2328   \n",
      "204  0.0323  0.0101  0.0298  0.0564  0.0760  0.0958  0.0990  0.1018  0.1030   \n",
      "205  0.0522  0.0437  0.0180  0.0292  0.0351  0.1171  0.1257  0.1178  0.1258   \n",
      "206  0.0303  0.0353  0.0490  0.0608  0.0167  0.1354  0.1465  0.1123  0.1945   \n",
      "207  0.0260  0.0363  0.0136  0.0272  0.0214  0.0338  0.0655  0.1400  0.1843   \n",
      "\n",
      "         V9 ...      V51     V52     V53     V54     V55     V56     V57  \\\n",
      "203  0.2684 ...   0.0116  0.0098  0.0199  0.0033  0.0101  0.0065  0.0115   \n",
      "204  0.2154 ...   0.0061  0.0093  0.0135  0.0063  0.0063  0.0034  0.0032   \n",
      "205  0.2529 ...   0.0160  0.0029  0.0051  0.0062  0.0089  0.0140  0.0138   \n",
      "206  0.2354 ...   0.0086  0.0046  0.0126  0.0036  0.0035  0.0034  0.0079   \n",
      "207  0.2354 ...   0.0146  0.0129  0.0047  0.0039  0.0061  0.0040  0.0036   \n",
      "\n",
      "        V58     V59  V60  \n",
      "203  0.0193  0.0157    M  \n",
      "204  0.0062  0.0067    M  \n",
      "205  0.0077  0.0031    M  \n",
      "206  0.0036  0.0048    M  \n",
      "207  0.0061  0.0115    M  \n",
      "\n",
      "[5 rows x 61 columns]\n"
     ]
    }
   ],
   "source": [
    "print(rocksVMines.head())\n",
    "print(rocksVMines.tail())"
   ]
  },
  {
   "cell_type": "code",
   "execution_count": 8,
   "metadata": {},
   "outputs": [
    {
     "name": "stdout",
     "output_type": "stream",
     "text": [
      "               V0          V1          V2          V3          V4          V5  \\\n",
      "count  208.000000  208.000000  208.000000  208.000000  208.000000  208.000000   \n",
      "mean     0.029164    0.038437    0.043832    0.053892    0.075202    0.104570   \n",
      "std      0.022991    0.032960    0.038428    0.046528    0.055552    0.059105   \n",
      "min      0.001500    0.000600    0.001500    0.005800    0.006700    0.010200   \n",
      "25%      0.013350    0.016450    0.018950    0.024375    0.038050    0.067025   \n",
      "50%      0.022800    0.030800    0.034300    0.044050    0.062500    0.092150   \n",
      "75%      0.035550    0.047950    0.057950    0.064500    0.100275    0.134125   \n",
      "max      0.137100    0.233900    0.305900    0.426400    0.401000    0.382300   \n",
      "\n",
      "               V6          V7          V8          V9     ...             V50  \\\n",
      "count  208.000000  208.000000  208.000000  208.000000     ...      208.000000   \n",
      "mean     0.121747    0.134799    0.178003    0.208259     ...        0.016069   \n",
      "std      0.061788    0.085152    0.118387    0.134416     ...        0.012008   \n",
      "min      0.003300    0.005500    0.007500    0.011300     ...        0.000000   \n",
      "25%      0.080900    0.080425    0.097025    0.111275     ...        0.008425   \n",
      "50%      0.106950    0.112100    0.152250    0.182400     ...        0.013900   \n",
      "75%      0.154000    0.169600    0.233425    0.268700     ...        0.020825   \n",
      "max      0.372900    0.459000    0.682800    0.710600     ...        0.100400   \n",
      "\n",
      "              V51         V52         V53         V54         V55         V56  \\\n",
      "count  208.000000  208.000000  208.000000  208.000000  208.000000  208.000000   \n",
      "mean     0.013420    0.010709    0.010941    0.009290    0.008222    0.007820   \n",
      "std      0.009634    0.007060    0.007301    0.007088    0.005736    0.005785   \n",
      "min      0.000800    0.000500    0.001000    0.000600    0.000400    0.000300   \n",
      "25%      0.007275    0.005075    0.005375    0.004150    0.004400    0.003700   \n",
      "50%      0.011400    0.009550    0.009300    0.007500    0.006850    0.005950   \n",
      "75%      0.016725    0.014900    0.014500    0.012100    0.010575    0.010425   \n",
      "max      0.070900    0.039000    0.035200    0.044700    0.039400    0.035500   \n",
      "\n",
      "              V57         V58         V59  \n",
      "count  208.000000  208.000000  208.000000  \n",
      "mean     0.007949    0.007941    0.006507  \n",
      "std      0.006470    0.006181    0.005031  \n",
      "min      0.000300    0.000100    0.000600  \n",
      "25%      0.003600    0.003675    0.003100  \n",
      "50%      0.005800    0.006400    0.005300  \n",
      "75%      0.010350    0.010325    0.008525  \n",
      "max      0.044000    0.036400    0.043900  \n",
      "\n",
      "[8 rows x 60 columns]\n"
     ]
    }
   ],
   "source": [
    "summary = rocksVMines.describe()\n",
    "print(summary)"
   ]
  },
  {
   "cell_type": "code",
   "execution_count": 10,
   "metadata": {},
   "outputs": [
    {
     "data": {
      "image/png": "[encoded data removed]",
      "text/plain": [
       "<matplotlib.figure.Figure at 0x20fd287b390>"
      ]
     },
     "metadata": {},
     "output_type": "display_data"
    }
   ],
   "source": [
    "for i in range(208):\n",
    "    if rocksVMines .iat[i, 60] == \"M\":\n",
    "        pcolor = \"red\"\n",
    "    else:\n",
    "        pcolor = \"blue\"\n",
    "    dataRow = rocksVMines.iloc[i, 0:60]\n",
    "    dataRow.plot(color = pcolor)\n",
    "plot.xlabel(\"Attribute Index\")\n",
    "plot.ylabel((\"Attribute Values\"))\n",
    "plot.show()"
   ]
  },
  {
   "cell_type": "code",
   "execution_count": null,
   "metadata": {},
   "outputs": [],
   "source": []
  }
 ],
 "metadata": {
  "kernelspec": {
   "display_name": "Python 3",
   "language": "python",
   "name": "python3"
  },
  "language_info": {
   "codemirror_mode": {
    "name": "ipython",
    "version": 3
   },
   "file_extension": ".py",
   "mimetype": "text/x-python",
   "name": "python",
   "nbconvert_exporter": "python",
   "pygments_lexer": "ipython3",
   "version": "3.6.4"
  }
 },
 "nbformat": 4,
 "nbformat_minor": 2
}
