{
 "cells": [
  {
   "cell_type": "markdown",
   "metadata": {},
   "source": [
    "## Understanding the Problem by Understanding the Data ##"
   ]
  },
  {
   "cell_type": "code",
   "execution_count": 24,
   "metadata": {},
   "outputs": [],
   "source": [
    "import urllib.request\n",
    "import sys\n",
    "import numpy as np"
   ]
  },
  {
   "cell_type": "markdown",
   "metadata": {},
   "source": [
    "### Data source ###"
   ]
  },
  {
   "cell_type": "code",
   "execution_count": 25,
   "metadata": {},
   "outputs": [],
   "source": [
    "target_url = (\"https://archive.ics.uci.edu/ml/machine-learning-databases/undocumented/connectionist-bench/sonar/sonar.all-data\")"
   ]
  },
  {
   "cell_type": "code",
   "execution_count": 26,
   "metadata": {},
   "outputs": [],
   "source": [
    "data = urllib.request.urlopen(target_url)"
   ]
  },
  {
   "cell_type": "code",
   "execution_count": 27,
   "metadata": {},
   "outputs": [],
   "source": [
    "xList = []\n",
    "labels = []"
   ]
  },
  {
   "cell_type": "markdown",
   "metadata": {},
   "source": [
    "### Determine size and shape ###"
   ]
  },
  {
   "cell_type": "code",
   "execution_count": 28,
   "metadata": {},
   "outputs": [],
   "source": [
    "for line in data:\n",
    "    row = line.decode('utf8').strip().split(\",\")\n",
    "    xList.append(row)"
   ]
  },
  {
   "cell_type": "code",
   "execution_count": 29,
   "metadata": {},
   "outputs": [
    {
     "name": "stdout",
     "output_type": "stream",
     "text": [
      "Number of Rows of Data = 208\n",
      "Number of Columns of Data = 61\n"
     ]
    }
   ],
   "source": [
    "sys.stdout.write(\"Number of Rows of Data = \" + str(len(xList)) + \"\\n\")\n",
    "sys.stdout.write(\"Number of Columns of Data = \" + str(len(xList[0])) + \"\\n\")"
   ]
  },
  {
   "cell_type": "markdown",
   "metadata": {},
   "source": [
    "### Determine data type: numerical, categorical or empty ###"
   ]
  },
  {
   "cell_type": "code",
   "execution_count": 30,
   "metadata": {},
   "outputs": [],
   "source": [
    "nrow = len(xList)\n",
    "ncol = len(xList[0])"
   ]
  },
  {
   "cell_type": "code",
   "execution_count": 31,
   "metadata": {},
   "outputs": [],
   "source": [
    "type = [0] * 3\n",
    "colCounts = []"
   ]
  },
  {
   "cell_type": "code",
   "execution_count": 32,
   "metadata": {},
   "outputs": [],
   "source": [
    "for col in range(ncol):\n",
    "    for row in xList:\n",
    "        try:\n",
    "            a = float(row[col])\n",
    "            if isinstance(a, float):\n",
    "                type[0] += 1\n",
    "        except ValueError:\n",
    "            if len(row[col]) > 0:\n",
    "                type[1] += 1\n",
    "            else:\n",
    "                type[2] += 1\n",
    "    colCounts.append(type)\n",
    "    type = [0] * 3"
   ]
  },
  {
   "cell_type": "code",
   "execution_count": 22,
   "metadata": {},
   "outputs": [
    {
     "name": "stdout",
     "output_type": "stream",
     "text": [
      "Col#\t\tNumber\t\tString\t\tOther\n",
      "0\t\t207\t\t0\t\t0\n",
      "1\t\t207\t\t0\t\t0\n",
      "2\t\t207\t\t0\t\t0\n",
      "3\t\t207\t\t0\t\t0\n",
      "4\t\t207\t\t0\t\t0\n",
      "5\t\t207\t\t0\t\t0\n",
      "6\t\t207\t\t0\t\t0\n",
      "7\t\t207\t\t0\t\t0\n",
      "8\t\t207\t\t0\t\t0\n",
      "9\t\t207\t\t0\t\t0\n",
      "10\t\t207\t\t0\t\t0\n",
      "11\t\t207\t\t0\t\t0\n",
      "12\t\t207\t\t0\t\t0\n",
      "13\t\t207\t\t0\t\t0\n",
      "14\t\t207\t\t0\t\t0\n",
      "15\t\t207\t\t0\t\t0\n",
      "16\t\t207\t\t0\t\t0\n",
      "17\t\t207\t\t0\t\t0\n",
      "18\t\t207\t\t0\t\t0\n",
      "19\t\t207\t\t0\t\t0\n",
      "20\t\t207\t\t0\t\t0\n",
      "21\t\t207\t\t0\t\t0\n",
      "22\t\t207\t\t0\t\t0\n",
      "23\t\t207\t\t0\t\t0\n",
      "24\t\t207\t\t0\t\t0\n",
      "25\t\t207\t\t0\t\t0\n",
      "26\t\t207\t\t0\t\t0\n",
      "27\t\t207\t\t0\t\t0\n",
      "28\t\t207\t\t0\t\t0\n",
      "29\t\t207\t\t0\t\t0\n",
      "30\t\t207\t\t0\t\t0\n",
      "31\t\t207\t\t0\t\t0\n",
      "32\t\t207\t\t0\t\t0\n",
      "33\t\t207\t\t0\t\t0\n",
      "34\t\t207\t\t0\t\t0\n",
      "35\t\t207\t\t0\t\t0\n",
      "36\t\t207\t\t0\t\t0\n",
      "37\t\t207\t\t0\t\t0\n",
      "38\t\t207\t\t0\t\t0\n",
      "39\t\t207\t\t0\t\t0\n",
      "40\t\t207\t\t0\t\t0\n",
      "41\t\t207\t\t0\t\t0\n",
      "42\t\t207\t\t0\t\t0\n",
      "43\t\t207\t\t0\t\t0\n",
      "44\t\t207\t\t0\t\t0\n",
      "45\t\t207\t\t0\t\t0\n",
      "46\t\t207\t\t0\t\t0\n",
      "47\t\t207\t\t0\t\t0\n",
      "48\t\t207\t\t0\t\t0\n",
      "49\t\t207\t\t0\t\t0\n",
      "50\t\t207\t\t0\t\t0\n",
      "51\t\t207\t\t0\t\t0\n",
      "52\t\t207\t\t0\t\t0\n",
      "53\t\t207\t\t0\t\t0\n",
      "54\t\t207\t\t0\t\t0\n",
      "55\t\t207\t\t0\t\t0\n",
      "56\t\t207\t\t0\t\t0\n",
      "57\t\t207\t\t0\t\t0\n",
      "58\t\t207\t\t0\t\t0\n",
      "59\t\t207\t\t0\t\t0\n",
      "60\t\t0\t\t207\t\t0\n"
     ]
    }
   ],
   "source": [
    "sys.stdout.write(\"Col#\" + '\\t\\t' + \"Number\" + '\\t\\t' + \"String\" + '\\t\\t' + \"Other\\n\")\n",
    "iCol = 0\n",
    "for types in colCounts:\n",
    "    sys.stdout.write(str(iCol) + '\\t\\t' + str(types[0]) + '\\t\\t' + str(types[1]) + '\\t\\t' + str(types[2]) + '\\n')\n",
    "    iCol += 1"
   ]
  },
  {
   "cell_type": "markdown",
   "metadata": {},
   "source": [
    "### Statistical summaries of data set ###"
   ]
  },
  {
   "cell_type": "markdown",
   "metadata": {},
   "source": [
    "#### generate summary statistics for column 3 ####"
   ]
  },
  {
   "cell_type": "code",
   "execution_count": 51,
   "metadata": {},
   "outputs": [],
   "source": [
    "col = 3\n",
    "colData = []\n",
    "for row in xList:\n",
    "    colData.append(float(row[col]))"
   ]
  },
  {
   "cell_type": "code",
   "execution_count": 52,
   "metadata": {},
   "outputs": [],
   "source": [
    "colArray = np.array(colData)"
   ]
  },
  {
   "cell_type": "code",
   "execution_count": 53,
   "metadata": {},
   "outputs": [
    {
     "name": "stdout",
     "output_type": "stream",
     "text": [
      "Mean = \t0.053892307692307684\t\tStandard Deviation = \t0.04641598322260027\n"
     ]
    }
   ],
   "source": [
    "colMean = np.mean(colArray)\n",
    "colsd = np.std(colArray)\n",
    "sys.stdout.write(\"Mean = \" + \"\\t\" + str(colMean) + \"\\t\\t\" + \"Standard Deviation = \" + \"\\t\" + str(colsd) + \"\\n\")"
   ]
  },
  {
   "cell_type": "markdown",
   "metadata": {},
   "source": [
    "#### calculate quantile boundaries to reveal outliers ####"
   ]
  },
  {
   "cell_type": "code",
   "execution_count": 54,
   "metadata": {},
   "outputs": [],
   "source": [
    "ntiles = 4\n",
    "percentBdry = []"
   ]
  },
  {
   "cell_type": "code",
   "execution_count": 50,
   "metadata": {},
   "outputs": [
    {
     "name": "stdout",
     "output_type": "stream",
     "text": [
      "\n",
      "Boundaries for 4 Equal Percentiles \n",
      "[0.0058, 0.024375, 0.04405, 0.0645, 0.4264]\n",
      "\n"
     ]
    }
   ],
   "source": [
    "for i in range(ntiles + 1):\n",
    "    percentBdry.append(np.percentile(colArray, i*100/ntiles))\n",
    "sys.stdout.write(\"\\nBoundaries for 4 Equal Percentiles \\n\")\n",
    "print(percentBdry)\n",
    "sys.stdout.write(\"\\n\")"
   ]
  },
  {
   "cell_type": "code",
   "execution_count": 55,
   "metadata": {},
   "outputs": [],
   "source": [
    "ntiles = 10\n",
    "percentBdry = []"
   ]
  },
  {
   "cell_type": "code",
   "execution_count": 56,
   "metadata": {},
   "outputs": [
    {
     "name": "stdout",
     "output_type": "stream",
     "text": [
      "\n",
      "Boundaries for 4 Equal Percentiles \n",
      "[0.0058, 0.0141, 0.022740000000000003, 0.027869999999999995, 0.03622, 0.04405, 0.05071999999999999, 0.059959999999999986, 0.07794000000000001, 0.10836, 0.4264]\n",
      "\n"
     ]
    }
   ],
   "source": [
    "for i in range(ntiles + 1):\n",
    "    percentBdry.append(np.percentile(colArray, i*100/ntiles))\n",
    "sys.stdout.write(\"\\nBoundaries for 4 Equal Percentiles \\n\")\n",
    "print(percentBdry)\n",
    "sys.stdout.write(\"\\n\")"
   ]
  },
  {
   "cell_type": "markdown",
   "metadata": {},
   "source": [
    "#### last column contains categorical variables ####"
   ]
  },
  {
   "cell_type": "code",
   "execution_count": 40,
   "metadata": {},
   "outputs": [],
   "source": [
    "col = 60\n",
    "colData = []\n",
    "for row in xList:\n",
    "    colData.append(row[col])"
   ]
  },
  {
   "cell_type": "code",
   "execution_count": 41,
   "metadata": {},
   "outputs": [
    {
     "name": "stdout",
     "output_type": "stream",
     "text": [
      "Unique Label Values \n",
      "{'M', 'R'}\n"
     ]
    }
   ],
   "source": [
    "unique = set(colData)\n",
    "sys.stdout.write(\"Unique Label Values \\n\")\n",
    "print(unique)"
   ]
  },
  {
   "cell_type": "code",
   "execution_count": 44,
   "metadata": {},
   "outputs": [],
   "source": [
    "catDict = dict(zip(list(unique), range(len(unique))))\n",
    "catCount = [0] * 2"
   ]
  },
  {
   "cell_type": "code",
   "execution_count": 45,
   "metadata": {},
   "outputs": [
    {
     "name": "stdout",
     "output_type": "stream",
     "text": [
      "\n",
      "Counts for Each Value of Categorical Label \n",
      "['M', 'R']\n",
      "[111, 97]\n"
     ]
    }
   ],
   "source": [
    "for elt in colData:\n",
    "    catCount[catDict[elt]] += 1\n",
    "sys.stdout.write(\"\\nCounts for Each Value of Categorical Label \\n\")\n",
    "print(list(unique))\n",
    "print(catCount)"
   ]
  },
  {
   "cell_type": "code",
   "execution_count": null,
   "metadata": {},
   "outputs": [],
   "source": []
  }
 ],
 "metadata": {
  "kernelspec": {
   "display_name": "Python 3",
   "language": "python",
   "name": "python3"
  },
  "language_info": {
   "codemirror_mode": {
    "name": "ipython",
    "version": 3
   },
   "file_extension": ".py",
   "mimetype": "text/x-python",
   "name": "python",
   "nbconvert_exporter": "python",
   "pygments_lexer": "ipython3",
   "version": "3.6.5"
  }
 },
 "nbformat": 4,
 "nbformat_minor": 2
}
